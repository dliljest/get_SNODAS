{
 "cells": [
  {
   "cell_type": "code",
   "execution_count": 5,
   "id": "b9cebd71",
   "metadata": {},
   "outputs": [],
   "source": [
    "import processSNODAS_polygon\n",
    "import importlib\n",
    "import os"
   ]
  },
  {
   "cell_type": "code",
   "execution_count": 72,
   "id": "e32c9c68",
   "metadata": {},
   "outputs": [
    {
     "data": {
      "text/plain": [
       "<module 'processSNODAS_polygon' from '/uufs/chpc.utah.edu/common/home/civil-group1/NSM/SNODAS/processSNODAS_polygon.py'>"
      ]
     },
     "execution_count": 72,
     "metadata": {},
     "output_type": "execute_result"
    }
   ],
   "source": [
    "importlib.reload(processSNODAS_polygon)"
   ]
  },
  {
   "cell_type": "code",
   "execution_count": 17,
   "id": "f8744cf5",
   "metadata": {},
   "outputs": [
    {
     "name": "stdout",
     "output_type": "stream",
     "text": [
      "/uufs/chpc.utah.edu/common/home/civil-group1/NSM/SNODAS\n"
     ]
    }
   ],
   "source": [
    "cwd = os.getcwd()\n",
    "print(cwd)"
   ]
  },
  {
   "cell_type": "code",
   "execution_count": 22,
   "id": "cbe18e4f",
   "metadata": {},
   "outputs": [
    {
     "name": "stderr",
     "output_type": "stream",
     "text": [
      "Processing Files:   2%|▏         | 1/41 [00:02<01:22,  2.06s/file]"
     ]
    },
    {
     "name": "stdout",
     "output_type": "stream",
     "text": [
      "Clipped: us_swe_20211001_.tif -> _clipped_us_swe_20211001_.tif\n"
     ]
    },
    {
     "name": "stderr",
     "output_type": "stream",
     "text": [
      "Processing Files:   5%|▍         | 2/41 [00:03<01:16,  1.97s/file]"
     ]
    },
    {
     "name": "stdout",
     "output_type": "stream",
     "text": [
      "Clipped: us_swe_20211008_.tif -> _clipped_us_swe_20211008_.tif\n"
     ]
    },
    {
     "name": "stderr",
     "output_type": "stream",
     "text": [
      "Processing Files:   7%|▋         | 3/41 [00:05<01:14,  1.96s/file]"
     ]
    },
    {
     "name": "stdout",
     "output_type": "stream",
     "text": [
      "Clipped: us_swe_20211015_.tif -> _clipped_us_swe_20211015_.tif\n"
     ]
    },
    {
     "name": "stderr",
     "output_type": "stream",
     "text": [
      "Processing Files:  10%|▉         | 4/41 [00:07<01:11,  1.95s/file]"
     ]
    },
    {
     "name": "stdout",
     "output_type": "stream",
     "text": [
      "Clipped: us_swe_20211022_.tif -> _clipped_us_swe_20211022_.tif\n"
     ]
    },
    {
     "name": "stderr",
     "output_type": "stream",
     "text": [
      "Processing Files:  12%|█▏        | 5/41 [00:09<01:09,  1.94s/file]"
     ]
    },
    {
     "name": "stdout",
     "output_type": "stream",
     "text": [
      "Clipped: us_swe_20211029_.tif -> _clipped_us_swe_20211029_.tif\n"
     ]
    },
    {
     "name": "stderr",
     "output_type": "stream",
     "text": [
      "Processing Files:  15%|█▍        | 6/41 [00:11<01:07,  1.93s/file]"
     ]
    },
    {
     "name": "stdout",
     "output_type": "stream",
     "text": [
      "Clipped: us_swe_20211105_.tif -> _clipped_us_swe_20211105_.tif\n"
     ]
    },
    {
     "name": "stderr",
     "output_type": "stream",
     "text": [
      "Processing Files:  17%|█▋        | 7/41 [00:13<01:05,  1.93s/file]"
     ]
    },
    {
     "name": "stdout",
     "output_type": "stream",
     "text": [
      "Clipped: us_swe_20211112_.tif -> _clipped_us_swe_20211112_.tif\n"
     ]
    },
    {
     "name": "stderr",
     "output_type": "stream",
     "text": [
      "Processing Files:  20%|█▉        | 8/41 [00:15<01:03,  1.93s/file]"
     ]
    },
    {
     "name": "stdout",
     "output_type": "stream",
     "text": [
      "Clipped: us_swe_20211119_.tif -> _clipped_us_swe_20211119_.tif\n"
     ]
    },
    {
     "name": "stderr",
     "output_type": "stream",
     "text": [
      "Processing Files:  22%|██▏       | 9/41 [00:17<01:01,  1.93s/file]"
     ]
    },
    {
     "name": "stdout",
     "output_type": "stream",
     "text": [
      "Clipped: us_swe_20211126_.tif -> _clipped_us_swe_20211126_.tif\n"
     ]
    },
    {
     "name": "stderr",
     "output_type": "stream",
     "text": [
      "Processing Files:  24%|██▍       | 10/41 [00:19<00:59,  1.92s/file]"
     ]
    },
    {
     "name": "stdout",
     "output_type": "stream",
     "text": [
      "Clipped: us_swe_20211203_.tif -> _clipped_us_swe_20211203_.tif\n"
     ]
    },
    {
     "name": "stderr",
     "output_type": "stream",
     "text": [
      "Processing Files:  27%|██▋       | 11/41 [00:21<00:57,  1.92s/file]"
     ]
    },
    {
     "name": "stdout",
     "output_type": "stream",
     "text": [
      "Clipped: us_swe_20211210_.tif -> _clipped_us_swe_20211210_.tif\n"
     ]
    },
    {
     "name": "stderr",
     "output_type": "stream",
     "text": [
      "Processing Files:  29%|██▉       | 12/41 [00:23<00:55,  1.93s/file]"
     ]
    },
    {
     "name": "stdout",
     "output_type": "stream",
     "text": [
      "Clipped: us_swe_20211217_.tif -> _clipped_us_swe_20211217_.tif\n"
     ]
    },
    {
     "name": "stderr",
     "output_type": "stream",
     "text": [
      "Processing Files:  32%|███▏      | 13/41 [00:25<00:53,  1.92s/file]"
     ]
    },
    {
     "name": "stdout",
     "output_type": "stream",
     "text": [
      "Clipped: us_swe_20211224_.tif -> _clipped_us_swe_20211224_.tif\n"
     ]
    },
    {
     "name": "stderr",
     "output_type": "stream",
     "text": [
      "Processing Files:  34%|███▍      | 14/41 [00:27<00:52,  1.93s/file]"
     ]
    },
    {
     "name": "stdout",
     "output_type": "stream",
     "text": [
      "Clipped: us_swe_20211231_.tif -> _clipped_us_swe_20211231_.tif\n"
     ]
    },
    {
     "name": "stderr",
     "output_type": "stream",
     "text": [
      "Processing Files:  37%|███▋      | 15/41 [00:29<00:50,  1.93s/file]"
     ]
    },
    {
     "name": "stdout",
     "output_type": "stream",
     "text": [
      "Clipped: us_swe_20220107_.tif -> _clipped_us_swe_20220107_.tif\n"
     ]
    },
    {
     "name": "stderr",
     "output_type": "stream",
     "text": [
      "Processing Files:  39%|███▉      | 16/41 [00:30<00:48,  1.93s/file]"
     ]
    },
    {
     "name": "stdout",
     "output_type": "stream",
     "text": [
      "Clipped: us_swe_20220114_.tif -> _clipped_us_swe_20220114_.tif\n"
     ]
    },
    {
     "name": "stderr",
     "output_type": "stream",
     "text": [
      "Processing Files:  41%|████▏     | 17/41 [00:32<00:46,  1.93s/file]"
     ]
    },
    {
     "name": "stdout",
     "output_type": "stream",
     "text": [
      "Clipped: us_swe_20220121_.tif -> _clipped_us_swe_20220121_.tif\n"
     ]
    },
    {
     "name": "stderr",
     "output_type": "stream",
     "text": [
      "Processing Files:  44%|████▍     | 18/41 [00:34<00:43,  1.90s/file]"
     ]
    },
    {
     "name": "stdout",
     "output_type": "stream",
     "text": [
      "Clipped: us_swe_20220128_.tif -> _clipped_us_swe_20220128_.tif\n"
     ]
    },
    {
     "name": "stderr",
     "output_type": "stream",
     "text": [
      "Processing Files:  46%|████▋     | 19/41 [00:36<00:41,  1.88s/file]"
     ]
    },
    {
     "name": "stdout",
     "output_type": "stream",
     "text": [
      "Clipped: us_swe_20220204_.tif -> _clipped_us_swe_20220204_.tif\n"
     ]
    },
    {
     "name": "stderr",
     "output_type": "stream",
     "text": [
      "Processing Files:  49%|████▉     | 20/41 [00:38<00:39,  1.86s/file]"
     ]
    },
    {
     "name": "stdout",
     "output_type": "stream",
     "text": [
      "Clipped: us_swe_20220211_.tif -> _clipped_us_swe_20220211_.tif\n"
     ]
    },
    {
     "name": "stderr",
     "output_type": "stream",
     "text": [
      "Processing Files:  51%|█████     | 21/41 [00:40<00:36,  1.84s/file]"
     ]
    },
    {
     "name": "stdout",
     "output_type": "stream",
     "text": [
      "Clipped: us_swe_20220218_.tif -> _clipped_us_swe_20220218_.tif\n"
     ]
    },
    {
     "name": "stderr",
     "output_type": "stream",
     "text": [
      "Processing Files:  54%|█████▎    | 22/41 [00:41<00:34,  1.83s/file]"
     ]
    },
    {
     "name": "stdout",
     "output_type": "stream",
     "text": [
      "Clipped: us_swe_20220225_.tif -> _clipped_us_swe_20220225_.tif\n"
     ]
    },
    {
     "name": "stderr",
     "output_type": "stream",
     "text": [
      "Processing Files:  56%|█████▌    | 23/41 [00:43<00:32,  1.83s/file]"
     ]
    },
    {
     "name": "stdout",
     "output_type": "stream",
     "text": [
      "Clipped: us_swe_20220304_.tif -> _clipped_us_swe_20220304_.tif\n"
     ]
    },
    {
     "name": "stderr",
     "output_type": "stream",
     "text": [
      "Processing Files:  59%|█████▊    | 24/41 [00:45<00:30,  1.82s/file]"
     ]
    },
    {
     "name": "stdout",
     "output_type": "stream",
     "text": [
      "Clipped: us_swe_20220311_.tif -> _clipped_us_swe_20220311_.tif\n"
     ]
    },
    {
     "name": "stderr",
     "output_type": "stream",
     "text": [
      "Processing Files:  61%|██████    | 25/41 [00:47<00:29,  1.81s/file]"
     ]
    },
    {
     "name": "stdout",
     "output_type": "stream",
     "text": [
      "Clipped: us_swe_20220318_.tif -> _clipped_us_swe_20220318_.tif\n"
     ]
    },
    {
     "name": "stderr",
     "output_type": "stream",
     "text": [
      "Processing Files:  63%|██████▎   | 26/41 [00:49<00:27,  1.81s/file]"
     ]
    },
    {
     "name": "stdout",
     "output_type": "stream",
     "text": [
      "Clipped: us_swe_20220325_.tif -> _clipped_us_swe_20220325_.tif\n"
     ]
    },
    {
     "name": "stderr",
     "output_type": "stream",
     "text": [
      "Processing Files:  66%|██████▌   | 27/41 [00:50<00:25,  1.80s/file]"
     ]
    },
    {
     "name": "stdout",
     "output_type": "stream",
     "text": [
      "Clipped: us_swe_20220401_.tif -> _clipped_us_swe_20220401_.tif\n"
     ]
    },
    {
     "name": "stderr",
     "output_type": "stream",
     "text": [
      "Processing Files:  68%|██████▊   | 28/41 [00:52<00:23,  1.80s/file]"
     ]
    },
    {
     "name": "stdout",
     "output_type": "stream",
     "text": [
      "Clipped: us_swe_20220408_.tif -> _clipped_us_swe_20220408_.tif\n"
     ]
    },
    {
     "name": "stderr",
     "output_type": "stream",
     "text": [
      "Processing Files:  71%|███████   | 29/41 [00:54<00:21,  1.80s/file]"
     ]
    },
    {
     "name": "stdout",
     "output_type": "stream",
     "text": [
      "Clipped: us_swe_20220415_.tif -> _clipped_us_swe_20220415_.tif\n"
     ]
    },
    {
     "name": "stderr",
     "output_type": "stream",
     "text": [
      "Processing Files:  73%|███████▎  | 30/41 [00:56<00:20,  1.82s/file]"
     ]
    },
    {
     "name": "stdout",
     "output_type": "stream",
     "text": [
      "Clipped: us_swe_20220422_.tif -> _clipped_us_swe_20220422_.tif\n"
     ]
    },
    {
     "name": "stderr",
     "output_type": "stream",
     "text": [
      "Processing Files:  76%|███████▌  | 31/41 [00:58<00:18,  1.84s/file]"
     ]
    },
    {
     "name": "stdout",
     "output_type": "stream",
     "text": [
      "Clipped: us_swe_20220429_.tif -> _clipped_us_swe_20220429_.tif\n"
     ]
    },
    {
     "name": "stderr",
     "output_type": "stream",
     "text": [
      "Processing Files:  78%|███████▊  | 32/41 [01:00<00:16,  1.86s/file]"
     ]
    },
    {
     "name": "stdout",
     "output_type": "stream",
     "text": [
      "Clipped: us_swe_20220506_.tif -> _clipped_us_swe_20220506_.tif\n"
     ]
    },
    {
     "name": "stderr",
     "output_type": "stream",
     "text": [
      "Processing Files:  80%|████████  | 33/41 [01:02<00:15,  1.88s/file]"
     ]
    },
    {
     "name": "stdout",
     "output_type": "stream",
     "text": [
      "Clipped: us_swe_20220513_.tif -> _clipped_us_swe_20220513_.tif\n"
     ]
    },
    {
     "name": "stderr",
     "output_type": "stream",
     "text": [
      "Processing Files:  83%|████████▎ | 34/41 [01:04<00:13,  1.89s/file]"
     ]
    },
    {
     "name": "stdout",
     "output_type": "stream",
     "text": [
      "Clipped: us_swe_20220520_.tif -> _clipped_us_swe_20220520_.tif\n"
     ]
    },
    {
     "name": "stderr",
     "output_type": "stream",
     "text": [
      "Processing Files:  85%|████████▌ | 35/41 [01:05<00:11,  1.90s/file]"
     ]
    },
    {
     "name": "stdout",
     "output_type": "stream",
     "text": [
      "Clipped: us_swe_20220527_.tif -> _clipped_us_swe_20220527_.tif\n"
     ]
    },
    {
     "name": "stderr",
     "output_type": "stream",
     "text": [
      "Processing Files:  88%|████████▊ | 36/41 [01:07<00:09,  1.90s/file]"
     ]
    },
    {
     "name": "stdout",
     "output_type": "stream",
     "text": [
      "Clipped: us_swe_20220603_.tif -> _clipped_us_swe_20220603_.tif\n"
     ]
    },
    {
     "name": "stderr",
     "output_type": "stream",
     "text": [
      "Processing Files:  90%|█████████ | 37/41 [01:09<00:07,  1.90s/file]"
     ]
    },
    {
     "name": "stdout",
     "output_type": "stream",
     "text": [
      "Clipped: us_swe_20220610_.tif -> _clipped_us_swe_20220610_.tif\n"
     ]
    },
    {
     "name": "stderr",
     "output_type": "stream",
     "text": [
      "Processing Files:  93%|█████████▎| 38/41 [01:11<00:05,  1.90s/file]"
     ]
    },
    {
     "name": "stdout",
     "output_type": "stream",
     "text": [
      "Clipped: us_swe_20220617_.tif -> _clipped_us_swe_20220617_.tif\n"
     ]
    },
    {
     "name": "stderr",
     "output_type": "stream",
     "text": [
      "Processing Files:  95%|█████████▌| 39/41 [01:13<00:03,  1.89s/file]"
     ]
    },
    {
     "name": "stdout",
     "output_type": "stream",
     "text": [
      "Clipped: us_swe_20220624_.tif -> _clipped_us_swe_20220624_.tif\n"
     ]
    },
    {
     "name": "stderr",
     "output_type": "stream",
     "text": [
      "Processing Files:  98%|█████████▊| 40/41 [01:15<00:01,  1.89s/file]"
     ]
    },
    {
     "name": "stdout",
     "output_type": "stream",
     "text": [
      "Clipped: us_swe_20220701_.tif -> _clipped_us_swe_20220701_.tif\n"
     ]
    },
    {
     "name": "stderr",
     "output_type": "stream",
     "text": [
      "Processing Files: 100%|██████████| 41/41 [01:17<00:00,  1.89s/file]"
     ]
    },
    {
     "name": "stdout",
     "output_type": "stream",
     "text": [
      "Clipped: us_swe_20220708_.tif -> _clipped_us_swe_20220708_.tif\n"
     ]
    },
    {
     "name": "stderr",
     "output_type": "stream",
     "text": [
      "\n"
     ]
    }
   ],
   "source": [
    "# Specify input and output directories\n",
    "input_directory = '/weekData'\n",
    "output_directory = '/weekData/clipped'\n",
    "clip_path = '/shp/UCRB.shp'\n",
    "\n",
    "# Process .tif files in the input directory\n",
    "processSNODAS_polygon.process_tif_files(input_directory, output_directory, clip_path , cwd)"
   ]
  },
  {
   "cell_type": "code",
   "execution_count": 73,
   "id": "b244ac37",
   "metadata": {},
   "outputs": [
    {
     "name": "stderr",
     "output_type": "stream",
     "text": [
      "Processing Files: 100%|██████████| 41/41 [00:02<00:00, 19.85file/s]\n"
     ]
    },
    {
     "data": {
      "text/html": [
       "<div>\n",
       "<style scoped>\n",
       "    .dataframe tbody tr th:only-of-type {\n",
       "        vertical-align: middle;\n",
       "    }\n",
       "\n",
       "    .dataframe tbody tr th {\n",
       "        vertical-align: top;\n",
       "    }\n",
       "\n",
       "    .dataframe thead th {\n",
       "        text-align: right;\n",
       "    }\n",
       "</style>\n",
       "<table border=\"1\" class=\"dataframe\">\n",
       "  <thead>\n",
       "    <tr style=\"text-align: right;\">\n",
       "      <th></th>\n",
       "      <th>Lat</th>\n",
       "      <th>Long</th>\n",
       "      <th>10-01-2021</th>\n",
       "      <th>10-08-2021</th>\n",
       "      <th>10-15-2021</th>\n",
       "      <th>10-22-2021</th>\n",
       "      <th>10-29-2021</th>\n",
       "      <th>11-05-2021</th>\n",
       "      <th>11-12-2021</th>\n",
       "      <th>11-19-2021</th>\n",
       "      <th>...</th>\n",
       "      <th>05-06-2022</th>\n",
       "      <th>05-13-2022</th>\n",
       "      <th>05-20-2022</th>\n",
       "      <th>05-27-2022</th>\n",
       "      <th>06-03-2022</th>\n",
       "      <th>06-10-2022</th>\n",
       "      <th>06-17-2022</th>\n",
       "      <th>06-24-2022</th>\n",
       "      <th>07-01-2022</th>\n",
       "      <th>07-08-2022</th>\n",
       "    </tr>\n",
       "  </thead>\n",
       "  <tbody>\n",
       "    <tr>\n",
       "      <th>0</th>\n",
       "      <td>43.445417</td>\n",
       "      <td>-112.321250</td>\n",
       "      <td>NaN</td>\n",
       "      <td>NaN</td>\n",
       "      <td>NaN</td>\n",
       "      <td>NaN</td>\n",
       "      <td>NaN</td>\n",
       "      <td>NaN</td>\n",
       "      <td>NaN</td>\n",
       "      <td>NaN</td>\n",
       "      <td>...</td>\n",
       "      <td>NaN</td>\n",
       "      <td>NaN</td>\n",
       "      <td>NaN</td>\n",
       "      <td>NaN</td>\n",
       "      <td>NaN</td>\n",
       "      <td>NaN</td>\n",
       "      <td>NaN</td>\n",
       "      <td>NaN</td>\n",
       "      <td>NaN</td>\n",
       "      <td>NaN</td>\n",
       "    </tr>\n",
       "    <tr>\n",
       "      <th>1</th>\n",
       "      <td>43.445417</td>\n",
       "      <td>-112.312917</td>\n",
       "      <td>NaN</td>\n",
       "      <td>NaN</td>\n",
       "      <td>NaN</td>\n",
       "      <td>NaN</td>\n",
       "      <td>NaN</td>\n",
       "      <td>NaN</td>\n",
       "      <td>NaN</td>\n",
       "      <td>NaN</td>\n",
       "      <td>...</td>\n",
       "      <td>NaN</td>\n",
       "      <td>NaN</td>\n",
       "      <td>NaN</td>\n",
       "      <td>NaN</td>\n",
       "      <td>NaN</td>\n",
       "      <td>NaN</td>\n",
       "      <td>NaN</td>\n",
       "      <td>NaN</td>\n",
       "      <td>NaN</td>\n",
       "      <td>NaN</td>\n",
       "    </tr>\n",
       "    <tr>\n",
       "      <th>2</th>\n",
       "      <td>43.445417</td>\n",
       "      <td>-112.304583</td>\n",
       "      <td>NaN</td>\n",
       "      <td>NaN</td>\n",
       "      <td>NaN</td>\n",
       "      <td>NaN</td>\n",
       "      <td>NaN</td>\n",
       "      <td>NaN</td>\n",
       "      <td>NaN</td>\n",
       "      <td>NaN</td>\n",
       "      <td>...</td>\n",
       "      <td>NaN</td>\n",
       "      <td>NaN</td>\n",
       "      <td>NaN</td>\n",
       "      <td>NaN</td>\n",
       "      <td>NaN</td>\n",
       "      <td>NaN</td>\n",
       "      <td>NaN</td>\n",
       "      <td>NaN</td>\n",
       "      <td>NaN</td>\n",
       "      <td>NaN</td>\n",
       "    </tr>\n",
       "    <tr>\n",
       "      <th>3</th>\n",
       "      <td>43.445417</td>\n",
       "      <td>-112.296250</td>\n",
       "      <td>NaN</td>\n",
       "      <td>NaN</td>\n",
       "      <td>NaN</td>\n",
       "      <td>NaN</td>\n",
       "      <td>NaN</td>\n",
       "      <td>NaN</td>\n",
       "      <td>NaN</td>\n",
       "      <td>NaN</td>\n",
       "      <td>...</td>\n",
       "      <td>NaN</td>\n",
       "      <td>NaN</td>\n",
       "      <td>NaN</td>\n",
       "      <td>NaN</td>\n",
       "      <td>NaN</td>\n",
       "      <td>NaN</td>\n",
       "      <td>NaN</td>\n",
       "      <td>NaN</td>\n",
       "      <td>NaN</td>\n",
       "      <td>NaN</td>\n",
       "    </tr>\n",
       "    <tr>\n",
       "      <th>4</th>\n",
       "      <td>43.445417</td>\n",
       "      <td>-112.287917</td>\n",
       "      <td>NaN</td>\n",
       "      <td>NaN</td>\n",
       "      <td>NaN</td>\n",
       "      <td>NaN</td>\n",
       "      <td>NaN</td>\n",
       "      <td>NaN</td>\n",
       "      <td>NaN</td>\n",
       "      <td>NaN</td>\n",
       "      <td>...</td>\n",
       "      <td>NaN</td>\n",
       "      <td>NaN</td>\n",
       "      <td>NaN</td>\n",
       "      <td>NaN</td>\n",
       "      <td>NaN</td>\n",
       "      <td>NaN</td>\n",
       "      <td>NaN</td>\n",
       "      <td>NaN</td>\n",
       "      <td>NaN</td>\n",
       "      <td>NaN</td>\n",
       "    </tr>\n",
       "    <tr>\n",
       "      <th>...</th>\n",
       "      <td>...</td>\n",
       "      <td>...</td>\n",
       "      <td>...</td>\n",
       "      <td>...</td>\n",
       "      <td>...</td>\n",
       "      <td>...</td>\n",
       "      <td>...</td>\n",
       "      <td>...</td>\n",
       "      <td>...</td>\n",
       "      <td>...</td>\n",
       "      <td>...</td>\n",
       "      <td>...</td>\n",
       "      <td>...</td>\n",
       "      <td>...</td>\n",
       "      <td>...</td>\n",
       "      <td>...</td>\n",
       "      <td>...</td>\n",
       "      <td>...</td>\n",
       "      <td>...</td>\n",
       "      <td>...</td>\n",
       "      <td>...</td>\n",
       "    </tr>\n",
       "    <tr>\n",
       "      <th>761383</th>\n",
       "      <td>35.562083</td>\n",
       "      <td>-105.662917</td>\n",
       "      <td>NaN</td>\n",
       "      <td>NaN</td>\n",
       "      <td>NaN</td>\n",
       "      <td>NaN</td>\n",
       "      <td>NaN</td>\n",
       "      <td>NaN</td>\n",
       "      <td>NaN</td>\n",
       "      <td>NaN</td>\n",
       "      <td>...</td>\n",
       "      <td>NaN</td>\n",
       "      <td>NaN</td>\n",
       "      <td>NaN</td>\n",
       "      <td>NaN</td>\n",
       "      <td>NaN</td>\n",
       "      <td>NaN</td>\n",
       "      <td>NaN</td>\n",
       "      <td>NaN</td>\n",
       "      <td>NaN</td>\n",
       "      <td>NaN</td>\n",
       "    </tr>\n",
       "    <tr>\n",
       "      <th>761384</th>\n",
       "      <td>35.562083</td>\n",
       "      <td>-105.654583</td>\n",
       "      <td>NaN</td>\n",
       "      <td>NaN</td>\n",
       "      <td>NaN</td>\n",
       "      <td>NaN</td>\n",
       "      <td>NaN</td>\n",
       "      <td>NaN</td>\n",
       "      <td>NaN</td>\n",
       "      <td>NaN</td>\n",
       "      <td>...</td>\n",
       "      <td>NaN</td>\n",
       "      <td>NaN</td>\n",
       "      <td>NaN</td>\n",
       "      <td>NaN</td>\n",
       "      <td>NaN</td>\n",
       "      <td>NaN</td>\n",
       "      <td>NaN</td>\n",
       "      <td>NaN</td>\n",
       "      <td>NaN</td>\n",
       "      <td>NaN</td>\n",
       "    </tr>\n",
       "    <tr>\n",
       "      <th>761385</th>\n",
       "      <td>35.562083</td>\n",
       "      <td>-105.646250</td>\n",
       "      <td>NaN</td>\n",
       "      <td>NaN</td>\n",
       "      <td>NaN</td>\n",
       "      <td>NaN</td>\n",
       "      <td>NaN</td>\n",
       "      <td>NaN</td>\n",
       "      <td>NaN</td>\n",
       "      <td>NaN</td>\n",
       "      <td>...</td>\n",
       "      <td>NaN</td>\n",
       "      <td>NaN</td>\n",
       "      <td>NaN</td>\n",
       "      <td>NaN</td>\n",
       "      <td>NaN</td>\n",
       "      <td>NaN</td>\n",
       "      <td>NaN</td>\n",
       "      <td>NaN</td>\n",
       "      <td>NaN</td>\n",
       "      <td>NaN</td>\n",
       "    </tr>\n",
       "    <tr>\n",
       "      <th>761386</th>\n",
       "      <td>35.562083</td>\n",
       "      <td>-105.637917</td>\n",
       "      <td>NaN</td>\n",
       "      <td>NaN</td>\n",
       "      <td>NaN</td>\n",
       "      <td>NaN</td>\n",
       "      <td>NaN</td>\n",
       "      <td>NaN</td>\n",
       "      <td>NaN</td>\n",
       "      <td>NaN</td>\n",
       "      <td>...</td>\n",
       "      <td>NaN</td>\n",
       "      <td>NaN</td>\n",
       "      <td>NaN</td>\n",
       "      <td>NaN</td>\n",
       "      <td>NaN</td>\n",
       "      <td>NaN</td>\n",
       "      <td>NaN</td>\n",
       "      <td>NaN</td>\n",
       "      <td>NaN</td>\n",
       "      <td>NaN</td>\n",
       "    </tr>\n",
       "    <tr>\n",
       "      <th>761387</th>\n",
       "      <td>35.562083</td>\n",
       "      <td>-105.629583</td>\n",
       "      <td>NaN</td>\n",
       "      <td>NaN</td>\n",
       "      <td>NaN</td>\n",
       "      <td>NaN</td>\n",
       "      <td>NaN</td>\n",
       "      <td>NaN</td>\n",
       "      <td>NaN</td>\n",
       "      <td>NaN</td>\n",
       "      <td>...</td>\n",
       "      <td>NaN</td>\n",
       "      <td>NaN</td>\n",
       "      <td>NaN</td>\n",
       "      <td>NaN</td>\n",
       "      <td>NaN</td>\n",
       "      <td>NaN</td>\n",
       "      <td>NaN</td>\n",
       "      <td>NaN</td>\n",
       "      <td>NaN</td>\n",
       "      <td>NaN</td>\n",
       "    </tr>\n",
       "  </tbody>\n",
       "</table>\n",
       "<p>761388 rows × 43 columns</p>\n",
       "</div>"
      ],
      "text/plain": [
       "              Lat        Long  10-01-2021  10-08-2021  10-15-2021  10-22-2021  \\\n",
       "0       43.445417 -112.321250         NaN         NaN         NaN         NaN   \n",
       "1       43.445417 -112.312917         NaN         NaN         NaN         NaN   \n",
       "2       43.445417 -112.304583         NaN         NaN         NaN         NaN   \n",
       "3       43.445417 -112.296250         NaN         NaN         NaN         NaN   \n",
       "4       43.445417 -112.287917         NaN         NaN         NaN         NaN   \n",
       "...           ...         ...         ...         ...         ...         ...   \n",
       "761383  35.562083 -105.662917         NaN         NaN         NaN         NaN   \n",
       "761384  35.562083 -105.654583         NaN         NaN         NaN         NaN   \n",
       "761385  35.562083 -105.646250         NaN         NaN         NaN         NaN   \n",
       "761386  35.562083 -105.637917         NaN         NaN         NaN         NaN   \n",
       "761387  35.562083 -105.629583         NaN         NaN         NaN         NaN   \n",
       "\n",
       "        10-29-2021  11-05-2021  11-12-2021  11-19-2021  ...  05-06-2022  \\\n",
       "0              NaN         NaN         NaN         NaN  ...         NaN   \n",
       "1              NaN         NaN         NaN         NaN  ...         NaN   \n",
       "2              NaN         NaN         NaN         NaN  ...         NaN   \n",
       "3              NaN         NaN         NaN         NaN  ...         NaN   \n",
       "4              NaN         NaN         NaN         NaN  ...         NaN   \n",
       "...            ...         ...         ...         ...  ...         ...   \n",
       "761383         NaN         NaN         NaN         NaN  ...         NaN   \n",
       "761384         NaN         NaN         NaN         NaN  ...         NaN   \n",
       "761385         NaN         NaN         NaN         NaN  ...         NaN   \n",
       "761386         NaN         NaN         NaN         NaN  ...         NaN   \n",
       "761387         NaN         NaN         NaN         NaN  ...         NaN   \n",
       "\n",
       "        05-13-2022  05-20-2022  05-27-2022  06-03-2022  06-10-2022  \\\n",
       "0              NaN         NaN         NaN         NaN         NaN   \n",
       "1              NaN         NaN         NaN         NaN         NaN   \n",
       "2              NaN         NaN         NaN         NaN         NaN   \n",
       "3              NaN         NaN         NaN         NaN         NaN   \n",
       "4              NaN         NaN         NaN         NaN         NaN   \n",
       "...            ...         ...         ...         ...         ...   \n",
       "761383         NaN         NaN         NaN         NaN         NaN   \n",
       "761384         NaN         NaN         NaN         NaN         NaN   \n",
       "761385         NaN         NaN         NaN         NaN         NaN   \n",
       "761386         NaN         NaN         NaN         NaN         NaN   \n",
       "761387         NaN         NaN         NaN         NaN         NaN   \n",
       "\n",
       "        06-17-2022  06-24-2022  07-01-2022  07-08-2022  \n",
       "0              NaN         NaN         NaN         NaN  \n",
       "1              NaN         NaN         NaN         NaN  \n",
       "2              NaN         NaN         NaN         NaN  \n",
       "3              NaN         NaN         NaN         NaN  \n",
       "4              NaN         NaN         NaN         NaN  \n",
       "...            ...         ...         ...         ...  \n",
       "761383         NaN         NaN         NaN         NaN  \n",
       "761384         NaN         NaN         NaN         NaN  \n",
       "761385         NaN         NaN         NaN         NaN  \n",
       "761386         NaN         NaN         NaN         NaN  \n",
       "761387         NaN         NaN         NaN         NaN  \n",
       "\n",
       "[761388 rows x 43 columns]"
      ]
     },
     "metadata": {},
     "output_type": "display_data"
    }
   ],
   "source": [
    "input_tif_directory = f\"{cwd}/weekData/clipped/\"\n",
    "output_csv_path = f\"{cwd}/weekData/clipped/SNODAS_UCRB_2022.csv\"\n",
    "\n",
    "processSNODAS_polygon.extract_multiple_dates(input_tif_directory, output_csv_path, cwd)"
   ]
  },
  {
   "cell_type": "code",
   "execution_count": null,
   "id": "4f4315dd",
   "metadata": {},
   "outputs": [],
   "source": []
  }
 ],
 "metadata": {
  "kernelspec": {
   "display_name": "Python 3 (ipykernel)",
   "language": "python",
   "name": "python3"
  },
  "language_info": {
   "codemirror_mode": {
    "name": "ipython",
    "version": 3
   },
   "file_extension": ".py",
   "mimetype": "text/x-python",
   "name": "python",
   "nbconvert_exporter": "python",
   "pygments_lexer": "ipython3",
   "version": "3.9.5"
  }
 },
 "nbformat": 4,
 "nbformat_minor": 5
}
